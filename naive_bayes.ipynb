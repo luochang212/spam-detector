{
 "cells": [
  {
   "cell_type": "code",
   "execution_count": 1,
   "id": "d7964f01",
   "metadata": {},
   "outputs": [],
   "source": [
    "import pandas as pd\n",
    "import numpy as np\n",
    "import nltk\n",
    "from nltk.corpus import stopwords\n",
    "from nltk.tokenize import word_tokenize\n",
    "from nltk.stem import PorterStemmer\n",
    "from sklearn.model_selection import train_test_split\n",
    "from sklearn.feature_extraction.text import CountVectorizer\n",
    "from sklearn.naive_bayes import MultinomialNB\n",
    "from sklearn.metrics import f1_score"
   ]
  },
  {
   "cell_type": "code",
   "execution_count": 2,
   "id": "ca299c29",
   "metadata": {},
   "outputs": [],
   "source": [
    "nltk.data.path.append(\"./data/nltk_data\")"
   ]
  },
  {
   "cell_type": "code",
   "execution_count": 3,
   "id": "65569306",
   "metadata": {},
   "outputs": [],
   "source": [
    "file_path = './data/spam.csv'\n",
    "\n",
    "df = pd.read_csv(file_path, encoding='ISO-8859-1')\n",
    "ps = PorterStemmer()\n",
    "df = df[['v1', 'v2']]\n",
    "df['v1'] = df['v1'].map({'spam': 1, 'ham': 0})\n",
    "df['v2'] = df['v2'].map(lambda sentence: ' '.join([ee for ee in [ps.stem(e) for e in word_tokenize(sentence)] if ee not in stopwords.words('english')]))"
   ]
  },
  {
   "cell_type": "code",
   "execution_count": 4,
   "id": "28c4288b",
   "metadata": {},
   "outputs": [
    {
     "data": {
      "text/html": [
       "<div>\n",
       "<style scoped>\n",
       "    .dataframe tbody tr th:only-of-type {\n",
       "        vertical-align: middle;\n",
       "    }\n",
       "\n",
       "    .dataframe tbody tr th {\n",
       "        vertical-align: top;\n",
       "    }\n",
       "\n",
       "    .dataframe thead th {\n",
       "        text-align: right;\n",
       "    }\n",
       "</style>\n",
       "<table border=\"1\" class=\"dataframe\">\n",
       "  <thead>\n",
       "    <tr style=\"text-align: right;\">\n",
       "      <th></th>\n",
       "      <th>v1</th>\n",
       "      <th>v2</th>\n",
       "    </tr>\n",
       "  </thead>\n",
       "  <tbody>\n",
       "    <tr>\n",
       "      <th>0</th>\n",
       "      <td>0</td>\n",
       "      <td>go jurong point , crazi .. avail onli bugi n g...</td>\n",
       "    </tr>\n",
       "    <tr>\n",
       "      <th>1</th>\n",
       "      <td>0</td>\n",
       "      <td>ok lar ... joke wif u oni ...</td>\n",
       "    </tr>\n",
       "    <tr>\n",
       "      <th>2</th>\n",
       "      <td>1</td>\n",
       "      <td>free entri 2 wkli comp win fa cup final tkt 21...</td>\n",
       "    </tr>\n",
       "    <tr>\n",
       "      <th>3</th>\n",
       "      <td>0</td>\n",
       "      <td>u dun say earli hor ... u c alreadi say ...</td>\n",
       "    </tr>\n",
       "    <tr>\n",
       "      <th>4</th>\n",
       "      <td>0</td>\n",
       "      <td>nah n't think goe usf , live around though</td>\n",
       "    </tr>\n",
       "    <tr>\n",
       "      <th>...</th>\n",
       "      <td>...</td>\n",
       "      <td>...</td>\n",
       "    </tr>\n",
       "    <tr>\n",
       "      <th>5567</th>\n",
       "      <td>1</td>\n",
       "      <td>thi 2nd time tri 2 contact u. u å£750 pound pr...</td>\n",
       "    </tr>\n",
       "    <tr>\n",
       "      <th>5568</th>\n",
       "      <td>0</td>\n",
       "      <td>ì_ b go esplanad fr home ?</td>\n",
       "    </tr>\n",
       "    <tr>\n",
       "      <th>5569</th>\n",
       "      <td>0</td>\n",
       "      <td>piti , * wa mood . ... ani suggest ?</td>\n",
       "    </tr>\n",
       "    <tr>\n",
       "      <th>5570</th>\n",
       "      <td>0</td>\n",
       "      <td>guy bitch act like 'd interest buy someth els ...</td>\n",
       "    </tr>\n",
       "    <tr>\n",
       "      <th>5571</th>\n",
       "      <td>0</td>\n",
       "      <td>rofl . true name</td>\n",
       "    </tr>\n",
       "  </tbody>\n",
       "</table>\n",
       "<p>5572 rows × 2 columns</p>\n",
       "</div>"
      ],
      "text/plain": [
       "      v1                                                 v2\n",
       "0      0  go jurong point , crazi .. avail onli bugi n g...\n",
       "1      0                      ok lar ... joke wif u oni ...\n",
       "2      1  free entri 2 wkli comp win fa cup final tkt 21...\n",
       "3      0        u dun say earli hor ... u c alreadi say ...\n",
       "4      0         nah n't think goe usf , live around though\n",
       "...   ..                                                ...\n",
       "5567   1  thi 2nd time tri 2 contact u. u å£750 pound pr...\n",
       "5568   0                         ì_ b go esplanad fr home ?\n",
       "5569   0               piti , * wa mood . ... ani suggest ?\n",
       "5570   0  guy bitch act like 'd interest buy someth els ...\n",
       "5571   0                                   rofl . true name\n",
       "\n",
       "[5572 rows x 2 columns]"
      ]
     },
     "execution_count": 4,
     "metadata": {},
     "output_type": "execute_result"
    }
   ],
   "source": [
    "df"
   ]
  },
  {
   "cell_type": "code",
   "execution_count": 5,
   "id": "225c8ca3",
   "metadata": {},
   "outputs": [
    {
     "name": "stdout",
     "output_type": "stream",
     "text": [
      "X_train:\n",
      " 3235    aight text 're back mu 'll swing , need somebo...\n",
      "945                       cant wait see ! photo use ? : )\n",
      "5319                            kothi print marandratha .\n",
      "5528                                 effect irrit . ignor\n",
      "247                           kalli wont bat 2nd inning .\n",
      "                              ...                        \n",
      "3772    came hostel . go sleep . plz call befor class ...\n",
      "5191                               sorri , 'll call later\n",
      "5226    prabha .. 'm soryda .. reali .. frm heart 'm sori\n",
      "5390                                 nt joke serious told\n",
      "860                                       work . go min .\n",
      "Name: v2, Length: 3733, dtype: object\n",
      "\n",
      "X_test:\n",
      " 3245    funni fact nobodi teach volcano 2 erupt , tsun...\n",
      "944     sent score sopha secondari applic school . thi...\n",
      "1044    know someon know fanci . call 09058097218 find...\n",
      "2484    onli promis get soon . 'll text morn let know ...\n",
      "812     congratul ur award either å£500 cd gift vouche...\n",
      "                              ...                        \n",
      "4944    anyway n't think secur anyth , lem know want d...\n",
      "3313               oh gei . happend tron . mayb ill dl 3d\n",
      "3652                   ha issu right . ill fix tomorrow .\n",
      "14                                        date sunday ! !\n",
      "4758    thank 4 continu support question thi week ente...\n",
      "Name: v2, Length: 1839, dtype: object\n",
      "\n",
      "y_train:\n",
      " 3235    0\n",
      "945     0\n",
      "5319    0\n",
      "5528    0\n",
      "247     0\n",
      "       ..\n",
      "3772    0\n",
      "5191    0\n",
      "5226    0\n",
      "5390    0\n",
      "860     0\n",
      "Name: v1, Length: 3733, dtype: int64\n",
      "\n",
      "y_test:\n",
      " 3245    0\n",
      "944     0\n",
      "1044    1\n",
      "2484    0\n",
      "812     1\n",
      "       ..\n",
      "4944    0\n",
      "3313    0\n",
      "3652    0\n",
      "14      0\n",
      "4758    1\n",
      "Name: v1, Length: 1839, dtype: int64\n"
     ]
    }
   ],
   "source": [
    "X_train, X_test, y_train, y_test = train_test_split(df.v2, df.v1, test_size=0.33, random_state=42)\n",
    "print('X_train:\\n', X_train)\n",
    "print('\\nX_test:\\n', X_test)\n",
    "print('\\ny_train:\\n', y_train)\n",
    "print('\\ny_test:\\n', y_test)"
   ]
  },
  {
   "cell_type": "code",
   "execution_count": 6,
   "id": "cde83c7d",
   "metadata": {},
   "outputs": [
    {
     "data": {
      "text/plain": [
       "(pandas.core.series.Series,\n",
       " pandas.core.series.Series,\n",
       " pandas.core.series.Series,\n",
       " pandas.core.series.Series)"
      ]
     },
     "execution_count": 6,
     "metadata": {},
     "output_type": "execute_result"
    }
   ],
   "source": [
    "type(X_train), type(X_test), type(y_train), type(y_test)"
   ]
  },
  {
   "cell_type": "code",
   "execution_count": 7,
   "id": "feb0736e",
   "metadata": {},
   "outputs": [],
   "source": [
    "# X_train = X_train[0:3]\n",
    "# X_train"
   ]
  },
  {
   "cell_type": "code",
   "execution_count": 8,
   "id": "0b4b6880",
   "metadata": {},
   "outputs": [
    {
     "data": {
      "text/plain": [
       "<3733x6032 sparse matrix of type '<class 'numpy.int64'>'\n",
       "\twith 32730 stored elements in Compressed Sparse Row format>"
      ]
     },
     "execution_count": 8,
     "metadata": {},
     "output_type": "execute_result"
    }
   ],
   "source": [
    "cv = CountVectorizer()\n",
    "X_train = cv.fit_transform(X_train).astype(int)\n",
    "X_train"
   ]
  },
  {
   "cell_type": "code",
   "execution_count": 9,
   "id": "288b4cd7",
   "metadata": {},
   "outputs": [
    {
     "name": "stdout",
     "output_type": "stream",
     "text": [
      "  (0, 775)\t1\n",
      "  (0, 5275)\t1\n",
      "  (0, 4394)\t1\n",
      "  (0, 1028)\t1\n",
      "  (0, 3660)\t1\n",
      "  (0, 3285)\t1\n",
      "  (0, 5172)\t1\n",
      "  (0, 3743)\t1\n",
      "  (0, 4902)\t1\n",
      "  (0, 2513)\t1\n",
      "  (0, 1965)\t1\n",
      "  (1, 1383)\t1\n",
      "  (1, 5713)\t1\n",
      "  (1, 4664)\t1\n",
      "  (1, 4101)\t1\n",
      "  (1, 5606)\t1\n",
      "  (2, 3159)\t1\n",
      "  (2, 4265)\t1\n",
      "  (2, 3441)\t1\n",
      "  (3, 2064)\t1\n",
      "  (3, 2976)\t1\n",
      "  (3, 2878)\t1\n",
      "  (4, 3103)\t1\n",
      "  (4, 5877)\t1\n",
      "  (4, 1067)\t1\n",
      "  :\t:\n",
      "  (3728, 1354)\t1\n",
      "  (3728, 1371)\t1\n",
      "  (3728, 1111)\t1\n",
      "  (3728, 4837)\t1\n",
      "  (3728, 1525)\t1\n",
      "  (3728, 4155)\t1\n",
      "  (3728, 2799)\t1\n",
      "  (3728, 2819)\t1\n",
      "  (3729, 3285)\t1\n",
      "  (3729, 1354)\t1\n",
      "  (3729, 3198)\t1\n",
      "  (3729, 4928)\t1\n",
      "  (3730, 2701)\t1\n",
      "  (3730, 4222)\t1\n",
      "  (3730, 2433)\t1\n",
      "  (3730, 4403)\t1\n",
      "  (3730, 4933)\t1\n",
      "  (3730, 4927)\t1\n",
      "  (3731, 3841)\t1\n",
      "  (3731, 5397)\t1\n",
      "  (3731, 4696)\t1\n",
      "  (3731, 3062)\t1\n",
      "  (3732, 2544)\t1\n",
      "  (3732, 5884)\t1\n",
      "  (3732, 3545)\t1\n"
     ]
    }
   ],
   "source": [
    "print(X_train)"
   ]
  },
  {
   "cell_type": "code",
   "execution_count": 10,
   "id": "74271214",
   "metadata": {},
   "outputs": [
    {
     "data": {
      "text/plain": [
       "3235    0\n",
       "945     0\n",
       "5319    0\n",
       "5528    0\n",
       "247     0\n",
       "       ..\n",
       "3772    0\n",
       "5191    0\n",
       "5226    0\n",
       "5390    0\n",
       "860     0\n",
       "Name: v1, Length: 3733, dtype: int64"
      ]
     },
     "execution_count": 10,
     "metadata": {},
     "output_type": "execute_result"
    }
   ],
   "source": [
    "y_train = y_train.astype(int)\n",
    "y_train"
   ]
  },
  {
   "cell_type": "code",
   "execution_count": 11,
   "id": "98dcfede",
   "metadata": {},
   "outputs": [
    {
     "data": {
      "text/html": [
       "<style>#sk-container-id-1 {color: black;background-color: white;}#sk-container-id-1 pre{padding: 0;}#sk-container-id-1 div.sk-toggleable {background-color: white;}#sk-container-id-1 label.sk-toggleable__label {cursor: pointer;display: block;width: 100%;margin-bottom: 0;padding: 0.3em;box-sizing: border-box;text-align: center;}#sk-container-id-1 label.sk-toggleable__label-arrow:before {content: \"▸\";float: left;margin-right: 0.25em;color: #696969;}#sk-container-id-1 label.sk-toggleable__label-arrow:hover:before {color: black;}#sk-container-id-1 div.sk-estimator:hover label.sk-toggleable__label-arrow:before {color: black;}#sk-container-id-1 div.sk-toggleable__content {max-height: 0;max-width: 0;overflow: hidden;text-align: left;background-color: #f0f8ff;}#sk-container-id-1 div.sk-toggleable__content pre {margin: 0.2em;color: black;border-radius: 0.25em;background-color: #f0f8ff;}#sk-container-id-1 input.sk-toggleable__control:checked~div.sk-toggleable__content {max-height: 200px;max-width: 100%;overflow: auto;}#sk-container-id-1 input.sk-toggleable__control:checked~label.sk-toggleable__label-arrow:before {content: \"▾\";}#sk-container-id-1 div.sk-estimator input.sk-toggleable__control:checked~label.sk-toggleable__label {background-color: #d4ebff;}#sk-container-id-1 div.sk-label input.sk-toggleable__control:checked~label.sk-toggleable__label {background-color: #d4ebff;}#sk-container-id-1 input.sk-hidden--visually {border: 0;clip: rect(1px 1px 1px 1px);clip: rect(1px, 1px, 1px, 1px);height: 1px;margin: -1px;overflow: hidden;padding: 0;position: absolute;width: 1px;}#sk-container-id-1 div.sk-estimator {font-family: monospace;background-color: #f0f8ff;border: 1px dotted black;border-radius: 0.25em;box-sizing: border-box;margin-bottom: 0.5em;}#sk-container-id-1 div.sk-estimator:hover {background-color: #d4ebff;}#sk-container-id-1 div.sk-parallel-item::after {content: \"\";width: 100%;border-bottom: 1px solid gray;flex-grow: 1;}#sk-container-id-1 div.sk-label:hover label.sk-toggleable__label {background-color: #d4ebff;}#sk-container-id-1 div.sk-serial::before {content: \"\";position: absolute;border-left: 1px solid gray;box-sizing: border-box;top: 0;bottom: 0;left: 50%;z-index: 0;}#sk-container-id-1 div.sk-serial {display: flex;flex-direction: column;align-items: center;background-color: white;padding-right: 0.2em;padding-left: 0.2em;position: relative;}#sk-container-id-1 div.sk-item {position: relative;z-index: 1;}#sk-container-id-1 div.sk-parallel {display: flex;align-items: stretch;justify-content: center;background-color: white;position: relative;}#sk-container-id-1 div.sk-item::before, #sk-container-id-1 div.sk-parallel-item::before {content: \"\";position: absolute;border-left: 1px solid gray;box-sizing: border-box;top: 0;bottom: 0;left: 50%;z-index: -1;}#sk-container-id-1 div.sk-parallel-item {display: flex;flex-direction: column;z-index: 1;position: relative;background-color: white;}#sk-container-id-1 div.sk-parallel-item:first-child::after {align-self: flex-end;width: 50%;}#sk-container-id-1 div.sk-parallel-item:last-child::after {align-self: flex-start;width: 50%;}#sk-container-id-1 div.sk-parallel-item:only-child::after {width: 0;}#sk-container-id-1 div.sk-dashed-wrapped {border: 1px dashed gray;margin: 0 0.4em 0.5em 0.4em;box-sizing: border-box;padding-bottom: 0.4em;background-color: white;}#sk-container-id-1 div.sk-label label {font-family: monospace;font-weight: bold;display: inline-block;line-height: 1.2em;}#sk-container-id-1 div.sk-label-container {text-align: center;}#sk-container-id-1 div.sk-container {/* jupyter's `normalize.less` sets `[hidden] { display: none; }` but bootstrap.min.css set `[hidden] { display: none !important; }` so we also need the `!important` here to be able to override the default hidden behavior on the sphinx rendered scikit-learn.org. See: https://github.com/scikit-learn/scikit-learn/issues/21755 */display: inline-block !important;position: relative;}#sk-container-id-1 div.sk-text-repr-fallback {display: none;}</style><div id=\"sk-container-id-1\" class=\"sk-top-container\"><div class=\"sk-text-repr-fallback\"><pre>MultinomialNB(force_alpha=True)</pre><b>In a Jupyter environment, please rerun this cell to show the HTML representation or trust the notebook. <br />On GitHub, the HTML representation is unable to render, please try loading this page with nbviewer.org.</b></div><div class=\"sk-container\" hidden><div class=\"sk-item\"><div class=\"sk-estimator sk-toggleable\"><input class=\"sk-toggleable__control sk-hidden--visually\" id=\"sk-estimator-id-1\" type=\"checkbox\" checked><label for=\"sk-estimator-id-1\" class=\"sk-toggleable__label sk-toggleable__label-arrow\">MultinomialNB</label><div class=\"sk-toggleable__content\"><pre>MultinomialNB(force_alpha=True)</pre></div></div></div></div></div>"
      ],
      "text/plain": [
       "MultinomialNB(force_alpha=True)"
      ]
     },
     "execution_count": 11,
     "metadata": {},
     "output_type": "execute_result"
    }
   ],
   "source": [
    "clf = MultinomialNB(force_alpha=True)\n",
    "clf.fit(X_train, y_train)"
   ]
  },
  {
   "cell_type": "code",
   "execution_count": 12,
   "id": "635863d4",
   "metadata": {},
   "outputs": [
    {
     "data": {
      "text/plain": [
       "(array([0, 0, 1, ..., 0, 0, 1]), 1839)"
      ]
     },
     "execution_count": 12,
     "metadata": {},
     "output_type": "execute_result"
    }
   ],
   "source": [
    "clf_pred = clf.predict(cv.transform(X_test))\n",
    "clf_pred, len(clf_pred)"
   ]
  },
  {
   "cell_type": "code",
   "execution_count": 13,
   "id": "bc0beef4",
   "metadata": {},
   "outputs": [
    {
     "data": {
      "text/plain": [
       "0.9306122448979592"
      ]
     },
     "execution_count": 13,
     "metadata": {},
     "output_type": "execute_result"
    }
   ],
   "source": [
    "score = f1_score(y_test, clf_pred)\n",
    "score"
   ]
  },
  {
   "cell_type": "code",
   "execution_count": 14,
   "id": "3e57c31a",
   "metadata": {},
   "outputs": [
    {
     "data": {
      "text/html": [
       "<div>\n",
       "<style scoped>\n",
       "    .dataframe tbody tr th:only-of-type {\n",
       "        vertical-align: middle;\n",
       "    }\n",
       "\n",
       "    .dataframe tbody tr th {\n",
       "        vertical-align: top;\n",
       "    }\n",
       "\n",
       "    .dataframe thead th {\n",
       "        text-align: right;\n",
       "    }\n",
       "</style>\n",
       "<table border=\"1\" class=\"dataframe\">\n",
       "  <thead>\n",
       "    <tr style=\"text-align: right;\">\n",
       "      <th></th>\n",
       "      <th>predict</th>\n",
       "      <th>v2</th>\n",
       "      <th>actual</th>\n",
       "      <th>pred_correct</th>\n",
       "    </tr>\n",
       "  </thead>\n",
       "  <tbody>\n",
       "    <tr>\n",
       "      <th>3245</th>\n",
       "      <td>0</td>\n",
       "      <td>funni fact nobodi teach volcano 2 erupt , tsun...</td>\n",
       "      <td>0</td>\n",
       "      <td>Yes</td>\n",
       "    </tr>\n",
       "    <tr>\n",
       "      <th>944</th>\n",
       "      <td>0</td>\n",
       "      <td>sent score sopha secondari applic school . thi...</td>\n",
       "      <td>0</td>\n",
       "      <td>Yes</td>\n",
       "    </tr>\n",
       "    <tr>\n",
       "      <th>1044</th>\n",
       "      <td>1</td>\n",
       "      <td>know someon know fanci . call 09058097218 find...</td>\n",
       "      <td>1</td>\n",
       "      <td>Yes</td>\n",
       "    </tr>\n",
       "    <tr>\n",
       "      <th>2484</th>\n",
       "      <td>0</td>\n",
       "      <td>onli promis get soon . 'll text morn let know ...</td>\n",
       "      <td>0</td>\n",
       "      <td>Yes</td>\n",
       "    </tr>\n",
       "    <tr>\n",
       "      <th>812</th>\n",
       "      <td>1</td>\n",
       "      <td>congratul ur award either å£500 cd gift vouche...</td>\n",
       "      <td>1</td>\n",
       "      <td>Yes</td>\n",
       "    </tr>\n",
       "  </tbody>\n",
       "</table>\n",
       "</div>"
      ],
      "text/plain": [
       "      predict                                                 v2  actual  \\\n",
       "3245        0  funni fact nobodi teach volcano 2 erupt , tsun...       0   \n",
       "944         0  sent score sopha secondari applic school . thi...       0   \n",
       "1044        1  know someon know fanci . call 09058097218 find...       1   \n",
       "2484        0  onli promis get soon . 'll text morn let know ...       0   \n",
       "812         1  congratul ur award either å£500 cd gift vouche...       1   \n",
       "\n",
       "     pred_correct  \n",
       "3245          Yes  \n",
       "944           Yes  \n",
       "1044          Yes  \n",
       "2484          Yes  \n",
       "812           Yes  "
      ]
     },
     "execution_count": 14,
     "metadata": {},
     "output_type": "execute_result"
    }
   ],
   "source": [
    "df_merge = pd.DataFrame(clf_pred, columns = ['predict'], index = y_test.index.values).join(df[['v2']])\n",
    "df_merge['actual'] = y_test.tolist()\n",
    "df_merge['pred_correct'] = np.where(df_merge['actual'] == df_merge['predict'], 'Yes', 'No')\n",
    "df_merge.head(5)"
   ]
  },
  {
   "cell_type": "code",
   "execution_count": 15,
   "id": "5206b938",
   "metadata": {},
   "outputs": [],
   "source": [
    "df_merge.to_csv('./data/clf_pred.csv')"
   ]
  },
  {
   "cell_type": "code",
   "execution_count": 26,
   "id": "8f07eb81",
   "metadata": {},
   "outputs": [
    {
     "data": {
      "text/html": [
       "<div>\n",
       "<style scoped>\n",
       "    .dataframe tbody tr th:only-of-type {\n",
       "        vertical-align: middle;\n",
       "    }\n",
       "\n",
       "    .dataframe tbody tr th {\n",
       "        vertical-align: top;\n",
       "    }\n",
       "\n",
       "    .dataframe thead th {\n",
       "        text-align: right;\n",
       "    }\n",
       "</style>\n",
       "<table border=\"1\" class=\"dataframe\">\n",
       "  <thead>\n",
       "    <tr style=\"text-align: right;\">\n",
       "      <th></th>\n",
       "      <th>index</th>\n",
       "    </tr>\n",
       "    <tr>\n",
       "      <th>pred_correct</th>\n",
       "      <th></th>\n",
       "    </tr>\n",
       "  </thead>\n",
       "  <tbody>\n",
       "    <tr>\n",
       "      <th>No</th>\n",
       "      <td>34</td>\n",
       "    </tr>\n",
       "    <tr>\n",
       "      <th>Yes</th>\n",
       "      <td>1805</td>\n",
       "    </tr>\n",
       "  </tbody>\n",
       "</table>\n",
       "</div>"
      ],
      "text/plain": [
       "              index\n",
       "pred_correct       \n",
       "No               34\n",
       "Yes            1805"
      ]
     },
     "execution_count": 26,
     "metadata": {},
     "output_type": "execute_result"
    }
   ],
   "source": [
    "df_merge['pred_correct'].to_frame().reset_index().groupby(by='pred_correct').count()"
   ]
  },
  {
   "cell_type": "code",
   "execution_count": 39,
   "id": "f60c2d10",
   "metadata": {},
   "outputs": [
    {
     "data": {
      "text/plain": [
       "predict          int64\n",
       "v2              object\n",
       "actual           int64\n",
       "pred_correct    object\n",
       "dtype: object"
      ]
     },
     "execution_count": 39,
     "metadata": {},
     "output_type": "execute_result"
    }
   ],
   "source": [
    "df_merge.dtypes"
   ]
  },
  {
   "cell_type": "code",
   "execution_count": 48,
   "id": "dc7fad81",
   "metadata": {},
   "outputs": [],
   "source": [
    "base = df_merge.count()[0]"
   ]
  },
  {
   "cell_type": "code",
   "execution_count": 49,
   "id": "4fbabe89",
   "metadata": {},
   "outputs": [
    {
     "data": {
      "text/plain": [
       "(24, 0.013050570962479609)"
      ]
     },
     "execution_count": 49,
     "metadata": {},
     "output_type": "execute_result"
    }
   ],
   "source": [
    "# 漏召\n",
    "a = np.where((df_merge['actual'] == 1) & (df_merge['predict'] == 0), 1, 0).sum()\n",
    "a, a/base"
   ]
  },
  {
   "cell_type": "code",
   "execution_count": 50,
   "id": "bd4577ae",
   "metadata": {},
   "outputs": [
    {
     "data": {
      "text/plain": [
       "(10, 0.005437737901033171)"
      ]
     },
     "execution_count": 50,
     "metadata": {},
     "output_type": "execute_result"
    }
   ],
   "source": [
    "# 误伤\n",
    "b = np.where((df_merge['actual'] == 0) & (df_merge['predict'] == 1), 1, 0).sum()\n",
    "b, b/base"
   ]
  },
  {
   "cell_type": "code",
   "execution_count": null,
   "id": "0307a4ce",
   "metadata": {},
   "outputs": [],
   "source": []
  }
 ],
 "metadata": {
  "kernelspec": {
   "display_name": "Python 3 (ipykernel)",
   "language": "python",
   "name": "python3"
  },
  "language_info": {
   "codemirror_mode": {
    "name": "ipython",
    "version": 3
   },
   "file_extension": ".py",
   "mimetype": "text/x-python",
   "name": "python",
   "nbconvert_exporter": "python",
   "pygments_lexer": "ipython3",
   "version": "3.9.7"
  }
 },
 "nbformat": 4,
 "nbformat_minor": 5
}
