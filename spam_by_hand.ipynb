{
 "cells": [
  {
   "cell_type": "code",
   "execution_count": 1,
   "id": "d7964f01",
   "metadata": {},
   "outputs": [],
   "source": [
    "import pandas as pd\n",
    "import numpy as np\n",
    "import nltk\n",
    "from nltk.corpus import stopwords\n",
    "from nltk.tokenize import word_tokenize\n",
    "from nltk.stem import PorterStemmer\n",
    "from sklearn.model_selection import train_test_split\n",
    "from collections import defaultdict\n",
    "from functools import reduce"
   ]
  },
  {
   "cell_type": "code",
   "execution_count": 2,
   "id": "ca299c29",
   "metadata": {},
   "outputs": [],
   "source": [
    "nltk.data.path.append(\"./data/nltk_data\")"
   ]
  },
  {
   "cell_type": "code",
   "execution_count": 3,
   "id": "65569306",
   "metadata": {},
   "outputs": [],
   "source": [
    "# 预处理\n",
    "file_path = './data/spam.csv'\n",
    "\n",
    "df = pd.read_csv(file_path, encoding='ISO-8859-1')\n",
    "ps = PorterStemmer()\n",
    "df = df[['v1', 'v2']]\n",
    "df['v1'] = df['v1'].map({'spam': 1, 'ham': 0})\n",
    "df['v2'] = df['v2'].map(lambda sentence: ' '.join([ee for ee in [ps.stem(e) for e in word_tokenize(sentence)] if ee not in stopwords.words('english')]))"
   ]
  },
  {
   "cell_type": "code",
   "execution_count": 4,
   "id": "28c4288b",
   "metadata": {},
   "outputs": [
    {
     "data": {
      "text/html": [
       "<div>\n",
       "<style scoped>\n",
       "    .dataframe tbody tr th:only-of-type {\n",
       "        vertical-align: middle;\n",
       "    }\n",
       "\n",
       "    .dataframe tbody tr th {\n",
       "        vertical-align: top;\n",
       "    }\n",
       "\n",
       "    .dataframe thead th {\n",
       "        text-align: right;\n",
       "    }\n",
       "</style>\n",
       "<table border=\"1\" class=\"dataframe\">\n",
       "  <thead>\n",
       "    <tr style=\"text-align: right;\">\n",
       "      <th></th>\n",
       "      <th>v1</th>\n",
       "      <th>v2</th>\n",
       "    </tr>\n",
       "  </thead>\n",
       "  <tbody>\n",
       "    <tr>\n",
       "      <th>0</th>\n",
       "      <td>0</td>\n",
       "      <td>go jurong point , crazi .. avail onli bugi n g...</td>\n",
       "    </tr>\n",
       "    <tr>\n",
       "      <th>1</th>\n",
       "      <td>0</td>\n",
       "      <td>ok lar ... joke wif u oni ...</td>\n",
       "    </tr>\n",
       "    <tr>\n",
       "      <th>2</th>\n",
       "      <td>1</td>\n",
       "      <td>free entri 2 wkli comp win fa cup final tkt 21...</td>\n",
       "    </tr>\n",
       "    <tr>\n",
       "      <th>3</th>\n",
       "      <td>0</td>\n",
       "      <td>u dun say earli hor ... u c alreadi say ...</td>\n",
       "    </tr>\n",
       "    <tr>\n",
       "      <th>4</th>\n",
       "      <td>0</td>\n",
       "      <td>nah n't think goe usf , live around though</td>\n",
       "    </tr>\n",
       "    <tr>\n",
       "      <th>...</th>\n",
       "      <td>...</td>\n",
       "      <td>...</td>\n",
       "    </tr>\n",
       "    <tr>\n",
       "      <th>5567</th>\n",
       "      <td>1</td>\n",
       "      <td>thi 2nd time tri 2 contact u. u å£750 pound pr...</td>\n",
       "    </tr>\n",
       "    <tr>\n",
       "      <th>5568</th>\n",
       "      <td>0</td>\n",
       "      <td>ì_ b go esplanad fr home ?</td>\n",
       "    </tr>\n",
       "    <tr>\n",
       "      <th>5569</th>\n",
       "      <td>0</td>\n",
       "      <td>piti , * wa mood . ... ani suggest ?</td>\n",
       "    </tr>\n",
       "    <tr>\n",
       "      <th>5570</th>\n",
       "      <td>0</td>\n",
       "      <td>guy bitch act like 'd interest buy someth els ...</td>\n",
       "    </tr>\n",
       "    <tr>\n",
       "      <th>5571</th>\n",
       "      <td>0</td>\n",
       "      <td>rofl . true name</td>\n",
       "    </tr>\n",
       "  </tbody>\n",
       "</table>\n",
       "<p>5572 rows × 2 columns</p>\n",
       "</div>"
      ],
      "text/plain": [
       "      v1                                                 v2\n",
       "0      0  go jurong point , crazi .. avail onli bugi n g...\n",
       "1      0                      ok lar ... joke wif u oni ...\n",
       "2      1  free entri 2 wkli comp win fa cup final tkt 21...\n",
       "3      0        u dun say earli hor ... u c alreadi say ...\n",
       "4      0         nah n't think goe usf , live around though\n",
       "...   ..                                                ...\n",
       "5567   1  thi 2nd time tri 2 contact u. u å£750 pound pr...\n",
       "5568   0                         ì_ b go esplanad fr home ?\n",
       "5569   0               piti , * wa mood . ... ani suggest ?\n",
       "5570   0  guy bitch act like 'd interest buy someth els ...\n",
       "5571   0                                   rofl . true name\n",
       "\n",
       "[5572 rows x 2 columns]"
      ]
     },
     "execution_count": 4,
     "metadata": {},
     "output_type": "execute_result"
    }
   ],
   "source": [
    "df"
   ]
  },
  {
   "cell_type": "code",
   "execution_count": 5,
   "id": "225c8ca3",
   "metadata": {},
   "outputs": [],
   "source": [
    "# 分割训练集测试集\n",
    "X_train, X_test, y_train, y_test = train_test_split(df.v2, df.v1, test_size=0.33, random_state=42)"
   ]
  },
  {
   "cell_type": "code",
   "execution_count": 6,
   "id": "f0c24284",
   "metadata": {},
   "outputs": [
    {
     "data": {
      "text/plain": [
       "(3733, 1839, 3733, 1839)"
      ]
     },
     "execution_count": 6,
     "metadata": {},
     "output_type": "execute_result"
    }
   ],
   "source": [
    "len(X_train), len(X_test), len(y_train), len(y_test)"
   ]
  },
  {
   "cell_type": "code",
   "execution_count": 7,
   "id": "e1a7cdbc",
   "metadata": {},
   "outputs": [
    {
     "data": {
      "text/html": [
       "<div>\n",
       "<style scoped>\n",
       "    .dataframe tbody tr th:only-of-type {\n",
       "        vertical-align: middle;\n",
       "    }\n",
       "\n",
       "    .dataframe tbody tr th {\n",
       "        vertical-align: top;\n",
       "    }\n",
       "\n",
       "    .dataframe thead th {\n",
       "        text-align: right;\n",
       "    }\n",
       "</style>\n",
       "<table border=\"1\" class=\"dataframe\">\n",
       "  <thead>\n",
       "    <tr style=\"text-align: right;\">\n",
       "      <th></th>\n",
       "      <th>v2</th>\n",
       "      <th>v1</th>\n",
       "    </tr>\n",
       "  </thead>\n",
       "  <tbody>\n",
       "    <tr>\n",
       "      <th>3235</th>\n",
       "      <td>aight text 're back mu 'll swing , need somebo...</td>\n",
       "      <td>0</td>\n",
       "    </tr>\n",
       "    <tr>\n",
       "      <th>945</th>\n",
       "      <td>cant wait see ! photo use ? : )</td>\n",
       "      <td>0</td>\n",
       "    </tr>\n",
       "    <tr>\n",
       "      <th>5319</th>\n",
       "      <td>kothi print marandratha .</td>\n",
       "      <td>0</td>\n",
       "    </tr>\n",
       "    <tr>\n",
       "      <th>5528</th>\n",
       "      <td>effect irrit . ignor</td>\n",
       "      <td>0</td>\n",
       "    </tr>\n",
       "    <tr>\n",
       "      <th>247</th>\n",
       "      <td>kalli wont bat 2nd inning .</td>\n",
       "      <td>0</td>\n",
       "    </tr>\n",
       "    <tr>\n",
       "      <th>...</th>\n",
       "      <td>...</td>\n",
       "      <td>...</td>\n",
       "    </tr>\n",
       "    <tr>\n",
       "      <th>3772</th>\n",
       "      <td>came hostel . go sleep . plz call befor class ...</td>\n",
       "      <td>0</td>\n",
       "    </tr>\n",
       "    <tr>\n",
       "      <th>5191</th>\n",
       "      <td>sorri , 'll call later</td>\n",
       "      <td>0</td>\n",
       "    </tr>\n",
       "    <tr>\n",
       "      <th>5226</th>\n",
       "      <td>prabha .. 'm soryda .. reali .. frm heart 'm sori</td>\n",
       "      <td>0</td>\n",
       "    </tr>\n",
       "    <tr>\n",
       "      <th>5390</th>\n",
       "      <td>nt joke serious told</td>\n",
       "      <td>0</td>\n",
       "    </tr>\n",
       "    <tr>\n",
       "      <th>860</th>\n",
       "      <td>work . go min .</td>\n",
       "      <td>0</td>\n",
       "    </tr>\n",
       "  </tbody>\n",
       "</table>\n",
       "<p>3733 rows × 2 columns</p>\n",
       "</div>"
      ],
      "text/plain": [
       "                                                     v2  v1\n",
       "3235  aight text 're back mu 'll swing , need somebo...   0\n",
       "945                     cant wait see ! photo use ? : )   0\n",
       "5319                          kothi print marandratha .   0\n",
       "5528                               effect irrit . ignor   0\n",
       "247                         kalli wont bat 2nd inning .   0\n",
       "...                                                 ...  ..\n",
       "3772  came hostel . go sleep . plz call befor class ...   0\n",
       "5191                             sorri , 'll call later   0\n",
       "5226  prabha .. 'm soryda .. reali .. frm heart 'm sori   0\n",
       "5390                               nt joke serious told   0\n",
       "860                                     work . go min .   0\n",
       "\n",
       "[3733 rows x 2 columns]"
      ]
     },
     "execution_count": 7,
     "metadata": {},
     "output_type": "execute_result"
    }
   ],
   "source": [
    "df_train = X_train.to_frame().join(y_train)\n",
    "df_train"
   ]
  },
  {
   "cell_type": "code",
   "execution_count": 8,
   "id": "13260571",
   "metadata": {},
   "outputs": [],
   "source": [
    "# 正常邮件词频统计\n",
    "norm_row_num, norm_word_cnt = 0, 0\n",
    "norm_word_dict = defaultdict(int)\n",
    "for line in df_train.loc[df_train['v1'] == 0]['v2']:\n",
    "    if line != '':\n",
    "        norm_row_num += 1\n",
    "        lst = line.strip().split(' ')\n",
    "        norm_word_cnt += len(lst)\n",
    "        for l in lst:\n",
    "            norm_word_dict[l] += 1"
   ]
  },
  {
   "cell_type": "code",
   "execution_count": 9,
   "id": "a2be33bb",
   "metadata": {},
   "outputs": [],
   "source": [
    "# norm_row_num, norm_word_cnt, norm_word_dict"
   ]
  },
  {
   "cell_type": "code",
   "execution_count": 10,
   "id": "9375b66c",
   "metadata": {},
   "outputs": [],
   "source": [
    "# 垃圾邮件词频统计\n",
    "spam_row_num, spam_word_cnt = 0, 0\n",
    "spam_word_dict = defaultdict(int)\n",
    "for line in df_train.loc[df_train['v1'] == 1]['v2']:\n",
    "    if line != '':\n",
    "        spam_row_num += 1\n",
    "        lst = line.strip().split(' ')\n",
    "        spam_word_cnt += len(lst)\n",
    "        for l in lst:\n",
    "            spam_word_dict[l] += 1"
   ]
  },
  {
   "cell_type": "code",
   "execution_count": 11,
   "id": "acc8b7bf",
   "metadata": {},
   "outputs": [],
   "source": [
    "# spam_row_num, spam_word_cnt, spam_word_dict"
   ]
  },
  {
   "cell_type": "code",
   "execution_count": 12,
   "id": "26eea963",
   "metadata": {},
   "outputs": [
    {
     "data": {
      "text/plain": [
       "(0.7796392295696886, 0.22036077043031146)"
      ]
     },
     "execution_count": 12,
     "metadata": {},
     "output_type": "execute_result"
    }
   ],
   "source": [
    "word_cnt = norm_word_cnt + spam_word_cnt\n",
    "norm_prob = norm_word_cnt / word_cnt\n",
    "spam_prob = spam_word_cnt / word_cnt\n",
    "norm_prob, spam_prob"
   ]
  },
  {
   "cell_type": "code",
   "execution_count": 13,
   "id": "23977c63",
   "metadata": {},
   "outputs": [],
   "source": [
    "# 计算每个词存在时是垃圾邮件的条件概率\n",
    "spam_prob_dict = dict()\n",
    "\n",
    "words = set(list(norm_word_dict.keys()) + list(spam_word_dict.keys()))\n",
    "for w in words:\n",
    "    a = spam_prob * (spam_word_dict[w] / spam_word_cnt)\n",
    "    b = norm_prob * (norm_word_dict[w] / norm_word_cnt)\n",
    "    c = (spam_word_dict[w] + norm_word_dict[w]) / (spam_word_cnt + norm_word_cnt)\n",
    "    spam_prob_dict[w] = (a / (a + b), c)"
   ]
  },
  {
   "cell_type": "code",
   "execution_count": 14,
   "id": "bcd1904d",
   "metadata": {},
   "outputs": [
    {
     "data": {
      "text/plain": [
       "0.0001543448062972681"
      ]
     },
     "execution_count": 14,
     "metadata": {},
     "output_type": "execute_result"
    }
   ],
   "source": [
    "default_freq_prob = np.mean([v[1] for _, v in spam_prob_dict.items()])\n",
    "default_freq_prob"
   ]
  },
  {
   "cell_type": "code",
   "execution_count": 15,
   "id": "c3a2c39d",
   "metadata": {},
   "outputs": [
    {
     "data": {
      "text/plain": [
       "0.2734875363138543"
      ]
     },
     "execution_count": 15,
     "metadata": {},
     "output_type": "execute_result"
    }
   ],
   "source": [
    "np.mean([v[0] for _, v in spam_prob_dict.items()])"
   ]
  },
  {
   "cell_type": "code",
   "execution_count": 16,
   "id": "1afd9df1",
   "metadata": {},
   "outputs": [],
   "source": [
    "def calc_spam_prob(sentence, spam_prob_dict=spam_prob_dict, default_spam_prob=0.4, default_freq_prob=default_freq_prob, limit=15):\n",
    "    words = sentence.strip().split(' ')\n",
    "    lst = list()\n",
    "    for w in words:\n",
    "        if w in spam_prob_dict:\n",
    "            lst.append(spam_prob_dict[w])\n",
    "\n",
    "    if len(lst) < limit:\n",
    "        lst += [(default_spam_prob, default_freq_prob) for _ in range(limit - len(lst))]\n",
    "    \n",
    "    limit_n = [k for k, _ in sorted([(t, min(1-t[0],t[0])) for t in lst], key=lambda e: e[1])][:limit]\n",
    "    a = reduce(lambda x, y: x * y, [max(e[0], 0.001) for e in limit_n])\n",
    "    b = reduce(lambda x, y: x * y, [e[1] for e in limit_n])\n",
    "    c = reduce(lambda x, y: x * y, [max(1-e[0], 0.001) for e in limit_n])\n",
    "    if a + c == 0: print(sentence, lst,a ,c)\n",
    "    return a / (a + c)"
   ]
  },
  {
   "cell_type": "code",
   "execution_count": 17,
   "id": "3798bfd2",
   "metadata": {},
   "outputs": [
    {
     "data": {
      "text/plain": [
       "0.004633749620396715"
      ]
     },
     "execution_count": 17,
     "metadata": {},
     "output_type": "execute_result"
    }
   ],
   "source": [
    "calc_spam_prob(sentence='thi 2nd time tri 2 contact u. u å£750 pound', limit=15)"
   ]
  },
  {
   "cell_type": "code",
   "execution_count": 18,
   "id": "9776a5bf",
   "metadata": {},
   "outputs": [
    {
     "data": {
      "text/plain": [
       "5.532986296963259e-17"
      ]
     },
     "execution_count": 18,
     "metadata": {},
     "output_type": "execute_result"
    }
   ],
   "source": [
    "calc_spam_prob(sentence='guy bitch act like \\'d interest buy someth', limit=15)"
   ]
  },
  {
   "cell_type": "code",
   "execution_count": 19,
   "id": "843d7ace",
   "metadata": {},
   "outputs": [],
   "source": [
    "pred = [calc_spam_prob(sentence=e) for e in X_test]"
   ]
  },
  {
   "cell_type": "code",
   "execution_count": 20,
   "id": "ffbfa3d7",
   "metadata": {},
   "outputs": [
    {
     "data": {
      "text/html": [
       "<div>\n",
       "<style scoped>\n",
       "    .dataframe tbody tr th:only-of-type {\n",
       "        vertical-align: middle;\n",
       "    }\n",
       "\n",
       "    .dataframe tbody tr th {\n",
       "        vertical-align: top;\n",
       "    }\n",
       "\n",
       "    .dataframe thead th {\n",
       "        text-align: right;\n",
       "    }\n",
       "</style>\n",
       "<table border=\"1\" class=\"dataframe\">\n",
       "  <thead>\n",
       "    <tr style=\"text-align: right;\">\n",
       "      <th></th>\n",
       "      <th>X_test</th>\n",
       "      <th>score</th>\n",
       "      <th>actual</th>\n",
       "    </tr>\n",
       "  </thead>\n",
       "  <tbody>\n",
       "    <tr>\n",
       "      <th>3245</th>\n",
       "      <td>funni fact nobodi teach volcano 2 erupt , tsun...</td>\n",
       "      <td>1.463723e-24</td>\n",
       "      <td>0</td>\n",
       "    </tr>\n",
       "    <tr>\n",
       "      <th>944</th>\n",
       "      <td>sent score sopha secondari applic school . thi...</td>\n",
       "      <td>1.943147e-25</td>\n",
       "      <td>0</td>\n",
       "    </tr>\n",
       "    <tr>\n",
       "      <th>1044</th>\n",
       "      <td>know someon know fanci . call 09058097218 find...</td>\n",
       "      <td>9.998136e-01</td>\n",
       "      <td>1</td>\n",
       "    </tr>\n",
       "    <tr>\n",
       "      <th>2484</th>\n",
       "      <td>onli promis get soon . 'll text morn let know ...</td>\n",
       "      <td>1.143428e-14</td>\n",
       "      <td>0</td>\n",
       "    </tr>\n",
       "    <tr>\n",
       "      <th>812</th>\n",
       "      <td>congratul ur award either å£500 cd gift vouche...</td>\n",
       "      <td>1.000000e+00</td>\n",
       "      <td>1</td>\n",
       "    </tr>\n",
       "    <tr>\n",
       "      <th>...</th>\n",
       "      <td>...</td>\n",
       "      <td>...</td>\n",
       "      <td>...</td>\n",
       "    </tr>\n",
       "    <tr>\n",
       "      <th>4944</th>\n",
       "      <td>anyway n't think secur anyth , lem know want d...</td>\n",
       "      <td>2.771890e-21</td>\n",
       "      <td>0</td>\n",
       "    </tr>\n",
       "    <tr>\n",
       "      <th>3313</th>\n",
       "      <td>oh gei . happend tron . mayb ill dl 3d</td>\n",
       "      <td>2.697375e-15</td>\n",
       "      <td>0</td>\n",
       "    </tr>\n",
       "    <tr>\n",
       "      <th>3652</th>\n",
       "      <td>ha issu right . ill fix tomorrow .</td>\n",
       "      <td>5.081893e-11</td>\n",
       "      <td>0</td>\n",
       "    </tr>\n",
       "    <tr>\n",
       "      <th>14</th>\n",
       "      <td>date sunday ! !</td>\n",
       "      <td>1.312554e-05</td>\n",
       "      <td>0</td>\n",
       "    </tr>\n",
       "    <tr>\n",
       "      <th>4758</th>\n",
       "      <td>thank 4 continu support question thi week ente...</td>\n",
       "      <td>4.834722e-07</td>\n",
       "      <td>1</td>\n",
       "    </tr>\n",
       "  </tbody>\n",
       "</table>\n",
       "<p>1839 rows × 3 columns</p>\n",
       "</div>"
      ],
      "text/plain": [
       "                                                 X_test         score  actual\n",
       "3245  funni fact nobodi teach volcano 2 erupt , tsun...  1.463723e-24       0\n",
       "944   sent score sopha secondari applic school . thi...  1.943147e-25       0\n",
       "1044  know someon know fanci . call 09058097218 find...  9.998136e-01       1\n",
       "2484  onli promis get soon . 'll text morn let know ...  1.143428e-14       0\n",
       "812   congratul ur award either å£500 cd gift vouche...  1.000000e+00       1\n",
       "...                                                 ...           ...     ...\n",
       "4944  anyway n't think secur anyth , lem know want d...  2.771890e-21       0\n",
       "3313             oh gei . happend tron . mayb ill dl 3d  2.697375e-15       0\n",
       "3652                 ha issu right . ill fix tomorrow .  5.081893e-11       0\n",
       "14                                      date sunday ! !  1.312554e-05       0\n",
       "4758  thank 4 continu support question thi week ente...  4.834722e-07       1\n",
       "\n",
       "[1839 rows x 3 columns]"
      ]
     },
     "execution_count": 20,
     "metadata": {},
     "output_type": "execute_result"
    }
   ],
   "source": [
    "df_res = pd.DataFrame({'X_test': X_test, 'score': pred, 'actual': y_test})\n",
    "df_res"
   ]
  },
  {
   "cell_type": "code",
   "execution_count": 21,
   "id": "9c7998a9",
   "metadata": {},
   "outputs": [
    {
     "data": {
      "text/html": [
       "<div>\n",
       "<style scoped>\n",
       "    .dataframe tbody tr th:only-of-type {\n",
       "        vertical-align: middle;\n",
       "    }\n",
       "\n",
       "    .dataframe tbody tr th {\n",
       "        vertical-align: top;\n",
       "    }\n",
       "\n",
       "    .dataframe thead th {\n",
       "        text-align: right;\n",
       "    }\n",
       "</style>\n",
       "<table border=\"1\" class=\"dataframe\">\n",
       "  <thead>\n",
       "    <tr style=\"text-align: right;\">\n",
       "      <th></th>\n",
       "      <th>X_test</th>\n",
       "      <th>score</th>\n",
       "      <th>actual</th>\n",
       "      <th>predict</th>\n",
       "      <th>pred_correct</th>\n",
       "    </tr>\n",
       "  </thead>\n",
       "  <tbody>\n",
       "    <tr>\n",
       "      <th>3245</th>\n",
       "      <td>funni fact nobodi teach volcano 2 erupt , tsun...</td>\n",
       "      <td>1.463723e-24</td>\n",
       "      <td>0</td>\n",
       "      <td>0</td>\n",
       "      <td>Yes</td>\n",
       "    </tr>\n",
       "    <tr>\n",
       "      <th>944</th>\n",
       "      <td>sent score sopha secondari applic school . thi...</td>\n",
       "      <td>1.943147e-25</td>\n",
       "      <td>0</td>\n",
       "      <td>0</td>\n",
       "      <td>Yes</td>\n",
       "    </tr>\n",
       "    <tr>\n",
       "      <th>1044</th>\n",
       "      <td>know someon know fanci . call 09058097218 find...</td>\n",
       "      <td>9.998136e-01</td>\n",
       "      <td>1</td>\n",
       "      <td>1</td>\n",
       "      <td>Yes</td>\n",
       "    </tr>\n",
       "    <tr>\n",
       "      <th>2484</th>\n",
       "      <td>onli promis get soon . 'll text morn let know ...</td>\n",
       "      <td>1.143428e-14</td>\n",
       "      <td>0</td>\n",
       "      <td>0</td>\n",
       "      <td>Yes</td>\n",
       "    </tr>\n",
       "    <tr>\n",
       "      <th>812</th>\n",
       "      <td>congratul ur award either å£500 cd gift vouche...</td>\n",
       "      <td>1.000000e+00</td>\n",
       "      <td>1</td>\n",
       "      <td>1</td>\n",
       "      <td>Yes</td>\n",
       "    </tr>\n",
       "    <tr>\n",
       "      <th>...</th>\n",
       "      <td>...</td>\n",
       "      <td>...</td>\n",
       "      <td>...</td>\n",
       "      <td>...</td>\n",
       "      <td>...</td>\n",
       "    </tr>\n",
       "    <tr>\n",
       "      <th>4944</th>\n",
       "      <td>anyway n't think secur anyth , lem know want d...</td>\n",
       "      <td>2.771890e-21</td>\n",
       "      <td>0</td>\n",
       "      <td>0</td>\n",
       "      <td>Yes</td>\n",
       "    </tr>\n",
       "    <tr>\n",
       "      <th>3313</th>\n",
       "      <td>oh gei . happend tron . mayb ill dl 3d</td>\n",
       "      <td>2.697375e-15</td>\n",
       "      <td>0</td>\n",
       "      <td>0</td>\n",
       "      <td>Yes</td>\n",
       "    </tr>\n",
       "    <tr>\n",
       "      <th>3652</th>\n",
       "      <td>ha issu right . ill fix tomorrow .</td>\n",
       "      <td>5.081893e-11</td>\n",
       "      <td>0</td>\n",
       "      <td>0</td>\n",
       "      <td>Yes</td>\n",
       "    </tr>\n",
       "    <tr>\n",
       "      <th>14</th>\n",
       "      <td>date sunday ! !</td>\n",
       "      <td>1.312554e-05</td>\n",
       "      <td>0</td>\n",
       "      <td>0</td>\n",
       "      <td>Yes</td>\n",
       "    </tr>\n",
       "    <tr>\n",
       "      <th>4758</th>\n",
       "      <td>thank 4 continu support question thi week ente...</td>\n",
       "      <td>4.834722e-07</td>\n",
       "      <td>1</td>\n",
       "      <td>0</td>\n",
       "      <td>No</td>\n",
       "    </tr>\n",
       "  </tbody>\n",
       "</table>\n",
       "<p>1839 rows × 5 columns</p>\n",
       "</div>"
      ],
      "text/plain": [
       "                                                 X_test         score  actual  \\\n",
       "3245  funni fact nobodi teach volcano 2 erupt , tsun...  1.463723e-24       0   \n",
       "944   sent score sopha secondari applic school . thi...  1.943147e-25       0   \n",
       "1044  know someon know fanci . call 09058097218 find...  9.998136e-01       1   \n",
       "2484  onli promis get soon . 'll text morn let know ...  1.143428e-14       0   \n",
       "812   congratul ur award either å£500 cd gift vouche...  1.000000e+00       1   \n",
       "...                                                 ...           ...     ...   \n",
       "4944  anyway n't think secur anyth , lem know want d...  2.771890e-21       0   \n",
       "3313             oh gei . happend tron . mayb ill dl 3d  2.697375e-15       0   \n",
       "3652                 ha issu right . ill fix tomorrow .  5.081893e-11       0   \n",
       "14                                      date sunday ! !  1.312554e-05       0   \n",
       "4758  thank 4 continu support question thi week ente...  4.834722e-07       1   \n",
       "\n",
       "      predict pred_correct  \n",
       "3245        0          Yes  \n",
       "944         0          Yes  \n",
       "1044        1          Yes  \n",
       "2484        0          Yes  \n",
       "812         1          Yes  \n",
       "...       ...          ...  \n",
       "4944        0          Yes  \n",
       "3313        0          Yes  \n",
       "3652        0          Yes  \n",
       "14          0          Yes  \n",
       "4758        0           No  \n",
       "\n",
       "[1839 rows x 5 columns]"
      ]
     },
     "execution_count": 21,
     "metadata": {},
     "output_type": "execute_result"
    }
   ],
   "source": [
    "df_res['predict'] = np.where(df_res['score'] >= 0.90, 1, 0)\n",
    "df_res['pred_correct'] = np.where(df_res['actual'] == df_res['predict'], 'Yes', 'No')\n",
    "df_res"
   ]
  },
  {
   "cell_type": "code",
   "execution_count": 22,
   "id": "77384dae",
   "metadata": {},
   "outputs": [
    {
     "data": {
      "text/plain": [
       "0.9999999999999999"
      ]
     },
     "execution_count": 22,
     "metadata": {},
     "output_type": "execute_result"
    }
   ],
   "source": [
    "np.percentile(df_res['score'], 95)"
   ]
  },
  {
   "cell_type": "code",
   "execution_count": 23,
   "id": "04b27a42",
   "metadata": {},
   "outputs": [
    {
     "data": {
      "text/plain": [
       "(252, 194)"
      ]
     },
     "execution_count": 23,
     "metadata": {},
     "output_type": "execute_result"
    }
   ],
   "source": [
    "np.where((df_res['actual'] == 1), 1, 0).sum(), np.where((df_res['predict'] == 1), 1, 0).sum()"
   ]
  },
  {
   "cell_type": "code",
   "execution_count": 24,
   "id": "db64ec80",
   "metadata": {},
   "outputs": [
    {
     "data": {
      "text/plain": [
       "(1587, 1645)"
      ]
     },
     "execution_count": 24,
     "metadata": {},
     "output_type": "execute_result"
    }
   ],
   "source": [
    "np.where((df_res['actual'] == 0), 1, 0).sum(), np.where((df_res['predict'] == 0), 1, 0).sum()"
   ]
  },
  {
   "cell_type": "code",
   "execution_count": 25,
   "id": "01f28426",
   "metadata": {},
   "outputs": [
    {
     "data": {
      "text/plain": [
       "1839"
      ]
     },
     "execution_count": 25,
     "metadata": {},
     "output_type": "execute_result"
    }
   ],
   "source": [
    "base = df_res.count()[0]\n",
    "base"
   ]
  },
  {
   "cell_type": "code",
   "execution_count": 26,
   "id": "a5ac1f76",
   "metadata": {},
   "outputs": [
    {
     "data": {
      "text/plain": [
       "(58, 0.031538879825992384)"
      ]
     },
     "execution_count": 26,
     "metadata": {},
     "output_type": "execute_result"
    }
   ],
   "source": [
    "# 漏召\n",
    "a = np.where((df_res['actual'] == 1) & (df_res['predict'] == 0), 1, 0).sum()\n",
    "a, a/base"
   ]
  },
  {
   "cell_type": "code",
   "execution_count": 27,
   "id": "304368ef",
   "metadata": {},
   "outputs": [
    {
     "data": {
      "text/plain": [
       "(0, 0.0)"
      ]
     },
     "execution_count": 27,
     "metadata": {},
     "output_type": "execute_result"
    }
   ],
   "source": [
    "# 误伤\n",
    "b = np.where((df_res['actual'] == 0) & (df_res['predict'] == 1), 1, 0).sum()\n",
    "b, b/base"
   ]
  },
  {
   "cell_type": "code",
   "execution_count": null,
   "id": "e36685b5",
   "metadata": {},
   "outputs": [],
   "source": []
  }
 ],
 "metadata": {
  "kernelspec": {
   "display_name": "Python 3 (ipykernel)",
   "language": "python",
   "name": "python3"
  },
  "language_info": {
   "codemirror_mode": {
    "name": "ipython",
    "version": 3
   },
   "file_extension": ".py",
   "mimetype": "text/x-python",
   "name": "python",
   "nbconvert_exporter": "python",
   "pygments_lexer": "ipython3",
   "version": "3.9.7"
  }
 },
 "nbformat": 4,
 "nbformat_minor": 5
}
